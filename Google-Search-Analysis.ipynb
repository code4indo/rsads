{
 "cells": [
  {
   "cell_type": "code",
   "execution_count": 4,
   "metadata": {
    "collapsed": true
   },
   "outputs": [],
   "source": [
    "import pandas as pd\n",
    "# jika modul TrendReq belum ada maka pip install pytrends\n",
    "from pytrends.request import TrendReq\n",
    "import matplotlib.pyplot as plt\n",
    "trends = TrendReq()"
   ]
  },
  {
   "cell_type": "markdown",
   "source": [
    "### kata kunci yang akan dianalisis adalah \"Machine Learning\"\n",
    "untuk penggunaan dan dokumentasi API pytrends dapat dilihat di: https://pypi.org/project/pytrends/\n",
    "Interest by Region: returns data for where the keyword is most searched as shown on Google Trends' Interest by Region section"
   ],
   "metadata": {
    "collapsed": false,
    "pycharm": {
     "name": "#%% md\n"
    }
   }
  },
  {
   "cell_type": "code",
   "execution_count": 23,
   "outputs": [
    {
     "name": "stdout",
     "output_type": "stream",
     "text": [
      "                      Artificial Intelligence  Machine Learning\n",
      "geoName                                                        \n",
      "Philippines                                63                37\n",
      "Nepal                                      61                39\n",
      "United Arab Emirates                       57                43\n",
      "Ghana                                      56                44\n",
      "Nigeria                                    55                45\n",
      "Kenya                                      53                47\n",
      "Pakistan                                   50                50\n",
      "Belgium                                    50                50\n",
      "Ethiopia                                   50                50\n",
      "Saudi Arabia                               50                50\n",
      "Ukraine                                    49                51\n",
      "Hungary                                    48                52\n",
      "Iraq                                       47                53\n",
      "South Africa                               47                53\n",
      "Sri Lanka                                  46                54\n",
      "Indonesia                                  45                55\n",
      "Serbia                                     43                57\n",
      "India                                      43                57\n",
      "Netherlands                                42                58\n",
      "Turkey                                     39                61\n",
      "Australia                                  39                61\n",
      "Malaysia                                   38                62\n",
      "Jordan                                     37                63\n",
      "Uganda                                     37                63\n",
      "Lebanon                                    37                63\n",
      "Italy                                      35                65\n",
      "Czechia                                    35                65\n",
      "Algeria                                    35                65\n",
      "Iran                                       34                66\n",
      "Romania                                    34                66\n",
      "Egypt                                      33                67\n",
      "Austria                                    32                68\n",
      "United States                              32                68\n",
      "Finland                                    31                69\n",
      "Bangladesh                                 31                69\n",
      "Portugal                                   31                69\n",
      "Canada                                     31                69\n",
      "Israel                                     30                70\n",
      "New Zealand                                30                70\n",
      "United Kingdom                             30                70\n",
      "Mexico                                     29                71\n",
      "Kazakhstan                                 28                72\n",
      "Switzerland                                28                72\n",
      "Ireland                                    28                72\n",
      "Greece                                     28                72\n",
      "Hong Kong                                  27                73\n",
      "Spain                                      26                74\n",
      "Sweden                                     26                74\n",
      "Taiwan                                     26                74\n",
      "Singapore                                  26                74\n"
     ]
    }
   ],
   "source": [
    "kw_list=[\"Artificial Intelligence\", \"Machine Learning\"]\n",
    "trends.build_payload(kw_list, timeframe='today 1-m')\n",
    "data = trends.interest_by_region()\n",
    "data = data.sort_values(by=\"Artificial Intelligence\", ascending=False)\n",
    "data = data.head(50)\n",
    "print(data)"
   ],
   "metadata": {
    "collapsed": false,
    "pycharm": {
     "name": "#%%\n"
    }
   }
  },
  {
   "cell_type": "markdown",
   "source": [
    "berdasarkan pada data diatas, diketahui bahwa kata Machine Learning paling banyak dicari di China"
   ],
   "metadata": {
    "collapsed": false,
    "pycharm": {
     "name": "#%% md\n"
    }
   }
  },
  {
   "cell_type": "code",
   "execution_count": 11,
   "outputs": [],
   "source": [],
   "metadata": {
    "collapsed": false,
    "pycharm": {
     "name": "#%%\n"
    }
   }
  },
  {
   "cell_type": "markdown",
   "source": [],
   "metadata": {
    "collapsed": false,
    "pycharm": {
     "name": "#%% md\n"
    }
   }
  }
 ],
 "metadata": {
  "kernelspec": {
   "display_name": "Python 3",
   "language": "python",
   "name": "python3"
  },
  "language_info": {
   "codemirror_mode": {
    "name": "ipython",
    "version": 2
   },
   "file_extension": ".py",
   "mimetype": "text/x-python",
   "name": "python",
   "nbconvert_exporter": "python",
   "pygments_lexer": "ipython2",
   "version": "2.7.6"
  }
 },
 "nbformat": 4,
 "nbformat_minor": 0
}