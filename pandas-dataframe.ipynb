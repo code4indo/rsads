{
 "cells": [
  {
   "cell_type": "code",
   "execution_count": 29,
   "metadata": {
    "collapsed": true,
    "pycharm": {
     "name": "#%%\n"
    }
   },
   "outputs": [
    {
     "data": {
      "text/plain": "     Duration  Pulse  Maxpulse  Calories\n0          60    110       130     409.1\n1          60    117       145     479.0\n2          60    103       135     340.0\n3          45    109       175     282.4\n4          45    117       148     406.0\n..        ...    ...       ...       ...\n164        60    105       140     290.8\n165        60    110       145     300.0\n166        60    115       145     310.2\n167        75    120       150     320.4\n168        75    125       150     330.4\n\n[169 rows x 4 columns]",
      "text/html": "<div>\n<style scoped>\n    .dataframe tbody tr th:only-of-type {\n        vertical-align: middle;\n    }\n\n    .dataframe tbody tr th {\n        vertical-align: top;\n    }\n\n    .dataframe thead th {\n        text-align: right;\n    }\n</style>\n<table border=\"1\" class=\"dataframe\">\n  <thead>\n    <tr style=\"text-align: right;\">\n      <th></th>\n      <th>Duration</th>\n      <th>Pulse</th>\n      <th>Maxpulse</th>\n      <th>Calories</th>\n    </tr>\n  </thead>\n  <tbody>\n    <tr>\n      <th>0</th>\n      <td>60</td>\n      <td>110</td>\n      <td>130</td>\n      <td>409.1</td>\n    </tr>\n    <tr>\n      <th>1</th>\n      <td>60</td>\n      <td>117</td>\n      <td>145</td>\n      <td>479.0</td>\n    </tr>\n    <tr>\n      <th>2</th>\n      <td>60</td>\n      <td>103</td>\n      <td>135</td>\n      <td>340.0</td>\n    </tr>\n    <tr>\n      <th>3</th>\n      <td>45</td>\n      <td>109</td>\n      <td>175</td>\n      <td>282.4</td>\n    </tr>\n    <tr>\n      <th>4</th>\n      <td>45</td>\n      <td>117</td>\n      <td>148</td>\n      <td>406.0</td>\n    </tr>\n    <tr>\n      <th>...</th>\n      <td>...</td>\n      <td>...</td>\n      <td>...</td>\n      <td>...</td>\n    </tr>\n    <tr>\n      <th>164</th>\n      <td>60</td>\n      <td>105</td>\n      <td>140</td>\n      <td>290.8</td>\n    </tr>\n    <tr>\n      <th>165</th>\n      <td>60</td>\n      <td>110</td>\n      <td>145</td>\n      <td>300.0</td>\n    </tr>\n    <tr>\n      <th>166</th>\n      <td>60</td>\n      <td>115</td>\n      <td>145</td>\n      <td>310.2</td>\n    </tr>\n    <tr>\n      <th>167</th>\n      <td>75</td>\n      <td>120</td>\n      <td>150</td>\n      <td>320.4</td>\n    </tr>\n    <tr>\n      <th>168</th>\n      <td>75</td>\n      <td>125</td>\n      <td>150</td>\n      <td>330.4</td>\n    </tr>\n  </tbody>\n</table>\n<p>169 rows × 4 columns</p>\n</div>"
     },
     "execution_count": 29,
     "metadata": {},
     "output_type": "execute_result"
    }
   ],
   "source": [
    "import pandas as pd\n",
    "\n",
    "df = pd.read_csv(\"data/data.csv\")\n",
    "df.head(1000)"
   ]
  },
  {
   "cell_type": "markdown",
   "source": [
    "### cleaning empty cell, data yang tidak terisi"
   ],
   "metadata": {
    "collapsed": false,
    "pycharm": {
     "name": "#%% md\n"
    }
   }
  },
  {
   "cell_type": "code",
   "source": [
    "import pandas as pd\n",
    "df = pd.read_csv(\"data/dirty-data.csv\")\n",
    "print(df.to_string())"
   ],
   "metadata": {
    "collapsed": false,
    "pycharm": {
     "name": "#%%\n"
    }
   },
   "execution_count": 30,
   "outputs": [
    {
     "name": "stdout",
     "output_type": "stream",
     "text": [
      "    Duration          Date  Maxpulse  Calories  Pulse\n",
      "0         60  '2020/12/01'       110       130  409.1\n",
      "1         60  '2020/12/02'       117       145  479.0\n",
      "2         60  '2020/12/03'       103       135  340.0\n",
      "3         45  '2020/12/04'       109       175  282.4\n",
      "4         45  '2020/12/05'       117       148  406.0\n",
      "5         60  '2020/12/06'       102       127  300.0\n",
      "6         60  '2020/12/07'       110       136  374.0\n",
      "7        450  '2020/12/08'       104       134  253.3\n",
      "8         30  '2020/12/09'       109       133  195.1\n",
      "9         60  '2020/12/10'        98       124  269.0\n",
      "10        60  '2020/12/11'       103       147  329.3\n",
      "11        60  '2020/12/12'       100       120  250.7\n",
      "12        60  '2020/12/12'       100       120  250.7\n",
      "13        60  '2020/12/13'       106       128  345.3\n",
      "14        60  '2020/12/14'       104       132  379.3\n",
      "15        60  '2020/12/15'        98       123  275.0\n",
      "16        60  '2020/12/16'        98       120  215.2\n",
      "17        60  '2020/12/17'       100       120  300.0\n",
      "18        45  '2020/12/18'        90       112    NaN\n",
      "19        60  '2020/12/19'       103       123  323.0\n",
      "20        45  '2020/12/20'        97       125  243.0\n",
      "21        60  '2020/12/21'       108       131  364.2\n",
      "22        45           NaN       100       119  282.0\n",
      "23        60  '2020/12/23'       130       101  300.0\n",
      "24        45  '2020/12/24'       105       132  246.0\n",
      "25        60  '2020/12/25'       102       126  334.5\n",
      "26        60    12/26/2020       100       120  250.0\n",
      "27        60  '2020/12/27'        92       118  241.0\n",
      "28        60  '2020/12/28'       103       132    NaN\n",
      "29        60  '2020/12/29'       100       132  280.0\n",
      "30        60  '2020/12/30'       102       129  380.3\n",
      "31        60  '2020/12/31'        92       115  243.0\n"
     ]
    }
   ]
  },
  {
   "cell_type": "code",
   "execution_count": 31,
   "outputs": [
    {
     "name": "stdout",
     "output_type": "stream",
     "text": [
      "<class 'pandas.core.frame.DataFrame'>\n",
      "RangeIndex: 32 entries, 0 to 31\n",
      "Data columns (total 5 columns):\n",
      " #   Column    Non-Null Count  Dtype  \n",
      "---  ------    --------------  -----  \n",
      " 0   Duration  32 non-null     int64  \n",
      " 1   Date      31 non-null     object \n",
      " 2   Maxpulse  32 non-null     int64  \n",
      " 3   Calories  32 non-null     int64  \n",
      " 4   Pulse     30 non-null     float64\n",
      "dtypes: float64(1), int64(3), object(1)\n",
      "memory usage: 1.4+ KB\n"
     ]
    }
   ],
   "source": [
    "# melihat info berapa banyak baris dan kolom yang terdapat pada dataframe\n",
    "df.info()"
   ],
   "metadata": {
    "collapsed": false,
    "pycharm": {
     "name": "#%%\n"
    }
   }
  },
  {
   "cell_type": "code",
   "execution_count": 32,
   "outputs": [
    {
     "name": "stdout",
     "output_type": "stream",
     "text": [
      "    Duration          Date  Maxpulse  Calories  Pulse\n",
      "0         60  '2020/12/01'       110       130  409.1\n",
      "1         60  '2020/12/02'       117       145  479.0\n",
      "2         60  '2020/12/03'       103       135  340.0\n",
      "3         45  '2020/12/04'       109       175  282.4\n",
      "4         45  '2020/12/05'       117       148  406.0\n",
      "5         60  '2020/12/06'       102       127  300.0\n",
      "6         60  '2020/12/07'       110       136  374.0\n",
      "7        450  '2020/12/08'       104       134  253.3\n",
      "8         30  '2020/12/09'       109       133  195.1\n",
      "9         60  '2020/12/10'        98       124  269.0\n",
      "10        60  '2020/12/11'       103       147  329.3\n",
      "11        60  '2020/12/12'       100       120  250.7\n",
      "12        60  '2020/12/12'       100       120  250.7\n",
      "13        60  '2020/12/13'       106       128  345.3\n",
      "14        60  '2020/12/14'       104       132  379.3\n",
      "15        60  '2020/12/15'        98       123  275.0\n",
      "16        60  '2020/12/16'        98       120  215.2\n",
      "17        60  '2020/12/17'       100       120  300.0\n",
      "19        60  '2020/12/19'       103       123  323.0\n",
      "20        45  '2020/12/20'        97       125  243.0\n",
      "21        60  '2020/12/21'       108       131  364.2\n",
      "23        60  '2020/12/23'       130       101  300.0\n",
      "24        45  '2020/12/24'       105       132  246.0\n",
      "25        60  '2020/12/25'       102       126  334.5\n",
      "26        60    12/26/2020       100       120  250.0\n",
      "27        60  '2020/12/27'        92       118  241.0\n",
      "29        60  '2020/12/29'       100       132  280.0\n",
      "30        60  '2020/12/30'       102       129  380.3\n",
      "31        60  '2020/12/31'        92       115  243.0\n"
     ]
    }
   ],
   "source": [
    "# menghapus data kosong dan dimasukkan kedalam new dataframe\n",
    "# jika ingin mengubah original file gunakan inplace = True\n",
    "new_df = df.dropna()\n",
    "print(new_df.to_string())"
   ],
   "metadata": {
    "collapsed": false,
    "pycharm": {
     "name": "#%%\n"
    }
   }
  },
  {
   "cell_type": "code",
   "execution_count": 33,
   "outputs": [
    {
     "name": "stdout",
     "output_type": "stream",
     "text": [
      "<class 'pandas.core.frame.DataFrame'>\n",
      "Int64Index: 29 entries, 0 to 31\n",
      "Data columns (total 5 columns):\n",
      " #   Column    Non-Null Count  Dtype  \n",
      "---  ------    --------------  -----  \n",
      " 0   Duration  29 non-null     int64  \n",
      " 1   Date      29 non-null     object \n",
      " 2   Maxpulse  29 non-null     int64  \n",
      " 3   Calories  29 non-null     int64  \n",
      " 4   Pulse     29 non-null     float64\n",
      "dtypes: float64(1), int64(3), object(1)\n",
      "memory usage: 1.4+ KB\n"
     ]
    }
   ],
   "source": [
    "new_df.info()"
   ],
   "metadata": {
    "collapsed": false,
    "pycharm": {
     "name": "#%%\n"
    }
   }
  },
  {
   "cell_type": "code",
   "execution_count": 34,
   "outputs": [
    {
     "name": "stdout",
     "output_type": "stream",
     "text": [
      "    Duration          Date  Maxpulse  Calories  Pulse\n",
      "0         60  '2020/12/01'       110       130  409.1\n",
      "1         60  '2020/12/02'       117       145  479.0\n",
      "2         60  '2020/12/03'       103       135  340.0\n",
      "3         45  '2020/12/04'       109       175  282.4\n",
      "4         45  '2020/12/05'       117       148  406.0\n",
      "5         60  '2020/12/06'       102       127  300.0\n",
      "6         60  '2020/12/07'       110       136  374.0\n",
      "7        450  '2020/12/08'       104       134  253.3\n",
      "8         30  '2020/12/09'       109       133  195.1\n",
      "9         60  '2020/12/10'        98       124  269.0\n",
      "10        60  '2020/12/11'       103       147  329.3\n",
      "11        60  '2020/12/12'       100       120  250.7\n",
      "12        60  '2020/12/12'       100       120  250.7\n",
      "13        60  '2020/12/13'       106       128  345.3\n",
      "14        60  '2020/12/14'       104       132  379.3\n",
      "15        60  '2020/12/15'        98       123  275.0\n",
      "16        60  '2020/12/16'        98       120  215.2\n",
      "17        60  '2020/12/17'       100       120  300.0\n",
      "19        60  '2020/12/19'       103       123  323.0\n",
      "20        45  '2020/12/20'        97       125  243.0\n",
      "21        60  '2020/12/21'       108       131  364.2\n",
      "23        60  '2020/12/23'       130       101  300.0\n",
      "24        45  '2020/12/24'       105       132  246.0\n",
      "25        60  '2020/12/25'       102       126  334.5\n",
      "26        60    12/26/2020       100       120  250.0\n",
      "27        60  '2020/12/27'        92       118  241.0\n",
      "29        60  '2020/12/29'       100       132  280.0\n",
      "30        60  '2020/12/30'       102       129  380.3\n",
      "31        60  '2020/12/31'        92       115  243.0\n"
     ]
    }
   ],
   "source": [
    "# langsung menghapus nilai kosong pada original Data Frame dengan menggunakan inplace = True\n",
    "\n",
    "import pandas as pd\n",
    "df = pd.read_csv(\"data/dirty-data.csv\")\n",
    "df.dropna(inplace=True)\n",
    "print(df.to_string())"
   ],
   "metadata": {
    "collapsed": false,
    "pycharm": {
     "name": "#%%\n"
    }
   }
  },
  {
   "cell_type": "code",
   "execution_count": 35,
   "outputs": [],
   "source": [
    "#export dari dataframe ke csv\n",
    "df.to_csv(\"data/data-clean.csv\",index=True)"
   ],
   "metadata": {
    "collapsed": false,
    "pycharm": {
     "name": "#%%\n"
    }
   }
  },
  {
   "cell_type": "code",
   "execution_count": 1,
   "outputs": [
    {
     "name": "stdout",
     "output_type": "stream",
     "text": [
      "    Duration          Date  Maxpulse  Calories     Pulse\n",
      "0         60  '2020/12/01'       110       130     409.1\n",
      "1         60  '2020/12/02'       117       145     479.0\n",
      "2         60  '2020/12/03'       103       135     340.0\n",
      "3         45  '2020/12/04'       109       175     282.4\n",
      "4         45  '2020/12/05'       117       148     406.0\n",
      "5         60  '2020/12/06'       102       127     300.0\n",
      "6         60  '2020/12/07'       110       136     374.0\n",
      "7        450  '2020/12/08'       104       134     253.3\n",
      "8         30  '2020/12/09'       109       133     195.1\n",
      "9         60  '2020/12/10'        98       124     269.0\n",
      "10        60  '2020/12/11'       103       147     329.3\n",
      "11        60  '2020/12/12'       100       120     250.7\n",
      "12        60  '2020/12/12'       100       120     250.7\n",
      "13        60  '2020/12/13'       106       128     345.3\n",
      "14        60  '2020/12/14'       104       132     379.3\n",
      "15        60  '2020/12/15'        98       123     275.0\n",
      "16        60  '2020/12/16'        98       120     215.2\n",
      "17        60  '2020/12/17'       100       120     300.0\n",
      "18        45  '2020/12/18'        90       112  140388.0\n",
      "19        60  '2020/12/19'       103       123     323.0\n",
      "20        45  '2020/12/20'        97       125     243.0\n",
      "21        60  '2020/12/21'       108       131     364.2\n",
      "22        45        140388       100       119     282.0\n",
      "23        60  '2020/12/23'       130       101     300.0\n",
      "24        45  '2020/12/24'       105       132     246.0\n",
      "25        60  '2020/12/25'       102       126     334.5\n",
      "26        60    12/26/2020       100       120     250.0\n",
      "27        60  '2020/12/27'        92       118     241.0\n",
      "28        60  '2020/12/28'       103       132  140388.0\n",
      "29        60  '2020/12/29'       100       132     280.0\n",
      "30        60  '2020/12/30'       102       129     380.3\n",
      "31        60  '2020/12/31'        92       115     243.0\n"
     ]
    }
   ],
   "source": [
    "### menganti nilai kosong dengan angka tertentu = 130\n",
    "import pandas as pd\n",
    "df = pd.read_csv(\"data/dirty-data.csv\")\n",
    "df.fillna(140388, inplace=True)\n",
    "print(df.to_string())"
   ],
   "metadata": {
    "collapsed": false,
    "pycharm": {
     "name": "#%%\n"
    }
   }
  },
  {
   "cell_type": "code",
   "execution_count": 4,
   "outputs": [
    {
     "name": "stdout",
     "output_type": "stream",
     "text": [
      "    Duration       Date  Maxpulse  Calories  Pulse\n",
      "0         60 2020-12-01       110       130  409.1\n",
      "1         60 2020-12-02       117       145  479.0\n",
      "2         60 2020-12-03       103       135  340.0\n",
      "3         45 2020-12-04       109       175  282.4\n",
      "4         45 2020-12-05       117       148  406.0\n",
      "5         60 2020-12-06       102       127  300.0\n",
      "6         60 2020-12-07       110       136  374.0\n",
      "7        450 2020-12-08       104       134  253.3\n",
      "8         30 2020-12-09       109       133  195.1\n",
      "9         60 2020-12-10        98       124  269.0\n",
      "10        60 2020-12-11       103       147  329.3\n",
      "11        60 2020-12-12       100       120  250.7\n",
      "12        60 2020-12-12       100       120  250.7\n",
      "13        60 2020-12-13       106       128  345.3\n",
      "14        60 2020-12-14       104       132  379.3\n",
      "15        60 2020-12-15        98       123  275.0\n",
      "16        60 2020-12-16        98       120  215.2\n",
      "17        60 2020-12-17       100       120  300.0\n",
      "18        45 2020-12-18        90       112    NaN\n",
      "19        60 2020-12-19       103       123  323.0\n",
      "20        45 2020-12-20        97       125  243.0\n",
      "21        60 2020-12-21       108       131  364.2\n",
      "22        45        NaT       100       119  282.0\n",
      "23        60 2020-12-23       130       101  300.0\n",
      "24        45 2020-12-24       105       132  246.0\n",
      "25        60 2020-12-25       102       126  334.5\n",
      "26        60 2020-12-26       100       120  250.0\n",
      "27        60 2020-12-27        92       118  241.0\n",
      "28        60 2020-12-28       103       132    NaN\n",
      "29        60 2020-12-29       100       132  280.0\n",
      "30        60 2020-12-30       102       129  380.3\n",
      "31        60 2020-12-31        92       115  243.0\n"
     ]
    }
   ],
   "source": [
    "import pandas as pd\n",
    "df = pd.read_csv(\"data/dirty-data.csv\")\n",
    "df['Date'] = pd.to_datetime(df['Date'])\n",
    "print(df.to_string())"
   ],
   "metadata": {
    "collapsed": false,
    "pycharm": {
     "name": "#%%\n"
    }
   }
  },
  {
   "cell_type": "code",
   "execution_count": 31,
   "outputs": [
    {
     "name": "stdout",
     "output_type": "stream",
     "text": [
      "    Duration          Date  Maxpulse  Calories  Pulse\n",
      "0         60  '2020/12/01'       110       130  409.1\n",
      "1         60  '2020/12/02'       117       145  479.0\n",
      "2         60  '2020/12/03'       103       135  340.0\n",
      "3         45  '2020/12/04'       109       175  282.4\n",
      "4         45  '2020/12/05'       117       148  406.0\n",
      "5         60  '2020/12/06'       102       127  300.0\n",
      "6         60  '2020/12/07'       110       136  374.0\n",
      "7        450  '2020/12/08'       104       134  253.3\n",
      "8         30  '2020/12/09'       109       133  195.1\n",
      "9         60  '2020/12/10'        98       124  269.0\n",
      "10        60  '2020/12/11'       103       147  329.3\n",
      "11        60  '2020/12/12'       100       120  250.7\n",
      "12        60  '2020/12/12'       100       120  250.7\n",
      "13        60  '2020/12/13'       106       128  345.3\n",
      "14        60  '2020/12/14'       104       132  379.3\n",
      "15        60  '2020/12/15'        98       123  275.0\n",
      "16        60  '2020/12/16'        98       120  215.2\n",
      "17        60  '2020/12/17'       100       120  300.0\n",
      "18        45  '2020/12/18'        90       112    NaN\n",
      "19        60  '2020/12/19'       103       123  323.0\n",
      "20        45  '2020/12/20'        97       125  243.0\n",
      "21        60  '2020/12/21'       108       131  364.2\n",
      "22        45           NaN       100       119  282.0\n",
      "23        60  '2020/12/23'       130       101  300.0\n",
      "24        45  '2020/12/24'       105       132  246.0\n",
      "25        60  '2020/12/25'       102       126  334.5\n",
      "26        60    12/26/2020       100       120  250.0\n",
      "27        60  '2020/12/27'        92       118  241.0\n",
      "28        60  '2020/12/28'       103       132    NaN\n",
      "29        60  '2020/12/29'       100       132  280.0\n",
      "30        60  '2020/12/30'       102       129  380.3\n",
      "31        60  '2020/12/31'        92       115  243.0\n"
     ]
    }
   ],
   "source": [
    "import pandas as pd\n",
    "df = pd.read_csv(\"data/dirty-data.csv\")\n",
    "#df.loc[7, 'Duration'] = 45\n",
    "print(df.to_string())"
   ],
   "metadata": {
    "collapsed": false,
    "pycharm": {
     "name": "#%%\n"
    }
   }
  },
  {
   "cell_type": "code",
   "execution_count": 32,
   "outputs": [],
   "source": [
    "for x in df.index:\n",
    "    if df.loc[x, \"Duration\"] > 120:\n",
    "        df.loc[x, \"Duration\"]='wrong format'"
   ],
   "metadata": {
    "collapsed": false,
    "pycharm": {
     "name": "#%%\n"
    }
   }
  },
  {
   "cell_type": "code",
   "execution_count": 33,
   "outputs": [
    {
     "name": "stdout",
     "output_type": "stream",
     "text": [
      "        Duration          Date  Maxpulse  Calories  Pulse\n",
      "0             60  '2020/12/01'       110       130  409.1\n",
      "1             60  '2020/12/02'       117       145  479.0\n",
      "2             60  '2020/12/03'       103       135  340.0\n",
      "3             45  '2020/12/04'       109       175  282.4\n",
      "4             45  '2020/12/05'       117       148  406.0\n",
      "5             60  '2020/12/06'       102       127  300.0\n",
      "6             60  '2020/12/07'       110       136  374.0\n",
      "7   wrong format  '2020/12/08'       104       134  253.3\n",
      "8             30  '2020/12/09'       109       133  195.1\n",
      "9             60  '2020/12/10'        98       124  269.0\n",
      "10            60  '2020/12/11'       103       147  329.3\n",
      "11            60  '2020/12/12'       100       120  250.7\n",
      "12            60  '2020/12/12'       100       120  250.7\n",
      "13            60  '2020/12/13'       106       128  345.3\n",
      "14            60  '2020/12/14'       104       132  379.3\n",
      "15            60  '2020/12/15'        98       123  275.0\n",
      "16            60  '2020/12/16'        98       120  215.2\n",
      "17            60  '2020/12/17'       100       120  300.0\n",
      "18            45  '2020/12/18'        90       112    NaN\n",
      "19            60  '2020/12/19'       103       123  323.0\n",
      "20            45  '2020/12/20'        97       125  243.0\n",
      "21            60  '2020/12/21'       108       131  364.2\n",
      "22            45           NaN       100       119  282.0\n",
      "23            60  '2020/12/23'       130       101  300.0\n",
      "24            45  '2020/12/24'       105       132  246.0\n",
      "25            60  '2020/12/25'       102       126  334.5\n",
      "26            60    12/26/2020       100       120  250.0\n",
      "27            60  '2020/12/27'        92       118  241.0\n",
      "28            60  '2020/12/28'       103       132    NaN\n",
      "29            60  '2020/12/29'       100       132  280.0\n",
      "30            60  '2020/12/30'       102       129  380.3\n",
      "31            60  '2020/12/31'        92       115  243.0\n"
     ]
    }
   ],
   "source": [
    "print(df.to_string())"
   ],
   "metadata": {
    "collapsed": false,
    "pycharm": {
     "name": "#%%\n"
    }
   }
  },
  {
   "cell_type": "code",
   "execution_count": 36,
   "outputs": [
    {
     "name": "stdout",
     "output_type": "stream",
     "text": [
      "    Duration          Date  Maxpulse  Calories  Pulse\n",
      "0         60  '2020/12/01'       110       130  409.1\n",
      "1         60  '2020/12/02'       117       145  479.0\n",
      "2         60  '2020/12/03'       103       135  340.0\n",
      "3         45  '2020/12/04'       109       175  282.4\n",
      "4         45  '2020/12/05'       117       148  406.0\n",
      "5         60  '2020/12/06'       102       127  300.0\n",
      "6         60  '2020/12/07'       110       136  374.0\n",
      "8         30  '2020/12/09'       109       133  195.1\n",
      "9         60  '2020/12/10'        98       124  269.0\n",
      "10        60  '2020/12/11'       103       147  329.3\n",
      "11        60  '2020/12/12'       100       120  250.7\n",
      "12        60  '2020/12/12'       100       120  250.7\n",
      "13        60  '2020/12/13'       106       128  345.3\n",
      "14        60  '2020/12/14'       104       132  379.3\n",
      "15        60  '2020/12/15'        98       123  275.0\n",
      "16        60  '2020/12/16'        98       120  215.2\n",
      "17        60  '2020/12/17'       100       120  300.0\n",
      "18        45  '2020/12/18'        90       112    NaN\n",
      "19        60  '2020/12/19'       103       123  323.0\n",
      "20        45  '2020/12/20'        97       125  243.0\n",
      "21        60  '2020/12/21'       108       131  364.2\n",
      "22        45           NaN       100       119  282.0\n",
      "23        60  '2020/12/23'       130       101  300.0\n",
      "24        45  '2020/12/24'       105       132  246.0\n",
      "25        60  '2020/12/25'       102       126  334.5\n",
      "26        60    12/26/2020       100       120  250.0\n",
      "27        60  '2020/12/27'        92       118  241.0\n",
      "28        60  '2020/12/28'       103       132    NaN\n",
      "29        60  '2020/12/29'       100       132  280.0\n",
      "30        60  '2020/12/30'       102       129  380.3\n",
      "31        60  '2020/12/31'        92       115  243.0\n"
     ]
    }
   ],
   "source": [
    "### menghapus data wrong format\n",
    "\n",
    "import pandas as pd\n",
    "df = pd.read_csv(\"data/dirty-data.csv\")\n",
    "for x in df.index:\n",
    "    if df.loc[x, \"Duration\"] > 120:\n",
    "        df.drop(x, inplace=True)\n",
    "\n",
    "print(df.to_string())"
   ],
   "metadata": {
    "collapsed": false,
    "pycharm": {
     "name": "#%%\n"
    }
   }
  },
  {
   "cell_type": "code",
   "execution_count": null,
   "outputs": [],
   "source": [],
   "metadata": {
    "collapsed": false,
    "pycharm": {
     "name": "#%%\n"
    }
   }
  }
 ],
 "metadata": {
  "kernelspec": {
   "display_name": "Python 3",
   "language": "python",
   "name": "python3"
  },
  "language_info": {
   "codemirror_mode": {
    "name": "ipython",
    "version": 2
   },
   "file_extension": ".py",
   "mimetype": "text/x-python",
   "name": "python",
   "nbconvert_exporter": "python",
   "pygments_lexer": "ipython2",
   "version": "2.7.6"
  }
 },
 "nbformat": 4,
 "nbformat_minor": 0
}