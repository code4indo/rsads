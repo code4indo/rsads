{
 "cells": [
  {
   "cell_type": "code",
   "execution_count": null,
   "metadata": {
    "collapsed": true,
    "pycharm": {
     "is_executing": true
    }
   },
   "outputs": [],
   "source": [
    "import pandas as pd\n",
    "df = pd.read_csv('data/setneg.csv')\n",
    "#print(df.to_string())"
   ]
  },
  {
   "cell_type": "code",
   "execution_count": 3,
   "outputs": [
    {
     "name": "stdout",
     "output_type": "stream",
     "text": [
      "<class 'pandas.core.frame.DataFrame'>\n",
      "RangeIndex: 1080 entries, 0 to 1079\n",
      "Data columns (total 59 columns):\n",
      " #   Column                       Non-Null Count  Dtype  \n",
      "---  ------                       --------------  -----  \n",
      " 0   referenceCode                1055 non-null   object \n",
      " 1   legacyId                     26 non-null     float64\n",
      " 2   parentId                     1079 non-null   float64\n",
      " 3   qubitParentSlug              0 non-null      float64\n",
      " 4   identifier                   1054 non-null   float64\n",
      " 5   accessionNumber              0 non-null      float64\n",
      " 6   title                        1080 non-null   object \n",
      " 7   levelOfDescription           1077 non-null   object \n",
      " 8   extentAndMedium              964 non-null    object \n",
      " 9   repository                   1080 non-null   object \n",
      " 10  archivalHistory              0 non-null      float64\n",
      " 11  acquisition                  15 non-null     object \n",
      " 12  scopeAndContent              0 non-null      float64\n",
      " 13  appraisal                    0 non-null      float64\n",
      " 14  accruals                     0 non-null      float64\n",
      " 15  arrangement                  0 non-null      float64\n",
      " 16  accessConditions             0 non-null      float64\n",
      " 17  reproductionConditions       0 non-null      float64\n",
      " 18  language                     1080 non-null   object \n",
      " 19  script                       0 non-null      float64\n",
      " 20  languageNote                 0 non-null      float64\n",
      " 21  physicalCharacteristics      0 non-null      float64\n",
      " 22  findingAids                  1 non-null      object \n",
      " 23  locationOfOriginals          0 non-null      float64\n",
      " 24  locationOfCopies             0 non-null      float64\n",
      " 25  relatedUnitsOfDescription    0 non-null      float64\n",
      " 26  publicationNote              0 non-null      float64\n",
      " 27  digitalObjectURI             0 non-null      float64\n",
      " 28  digitalObjectChecksum        0 non-null      float64\n",
      " 29  generalNote                  932 non-null    object \n",
      " 30  subjectAccessPoints          0 non-null      float64\n",
      " 31  placeAccessPoints            0 non-null      float64\n",
      " 32  nameAccessPoints             0 non-null      float64\n",
      " 33  genreAccessPoints            0 non-null      float64\n",
      " 34  descriptionIdentifier        0 non-null      float64\n",
      " 35  institutionIdentifier        0 non-null      float64\n",
      " 36  rules                        0 non-null      float64\n",
      " 37  descriptionStatus            0 non-null      float64\n",
      " 38  levelOfDetail                0 non-null      float64\n",
      " 39  revisionHistory              0 non-null      float64\n",
      " 40  languageOfDescription        0 non-null      float64\n",
      " 41  scriptOfDescription          0 non-null      float64\n",
      " 42  sources                      0 non-null      float64\n",
      " 43  archivistNote                133 non-null    object \n",
      " 44  publicationStatus            1080 non-null   object \n",
      " 45  physicalObjectName           0 non-null      float64\n",
      " 46  physicalObjectLocation       0 non-null      float64\n",
      " 47  physicalObjectType           0 non-null      float64\n",
      " 48  alternativeIdentifiers       0 non-null      float64\n",
      " 49  alternativeIdentifierLabels  0 non-null      float64\n",
      " 50  eventDates                   0 non-null      float64\n",
      " 51  eventTypes                   1080 non-null   object \n",
      " 52  eventStartDates              0 non-null      float64\n",
      " 53  eventEndDates                0 non-null      float64\n",
      " 54  eventDescriptions            0 non-null      float64\n",
      " 55  eventActors                  1080 non-null   object \n",
      " 56  eventActorHistories          0 non-null      float64\n",
      " 57  eventPlaces                  0 non-null      float64\n",
      " 58  culture                      1080 non-null   object \n",
      "dtypes: float64(45), object(14)\n",
      "memory usage: 497.9+ KB\n"
     ]
    }
   ],
   "source": [
    "df.info()"
   ],
   "metadata": {
    "collapsed": false,
    "pycharm": {
     "name": "#%%\n"
    }
   }
  },
  {
   "cell_type": "markdown",
   "source": [
    "### Mengganti nilai pada sebuah kolom"
   ],
   "metadata": {
    "collapsed": false,
    "pycharm": {
     "name": "#%% md\n"
    }
   }
  },
  {
   "cell_type": "code",
   "execution_count": null,
   "outputs": [],
   "source": [
    "### convert 'Creation | Creation | Creation', menjadi 'Creation' for col eventTypes\n",
    "df['eventTypes'] = df['eventTypes'].replace('Creation | Creation | Creation', 'Creation')\n",
    "print(df.to_string())"
   ],
   "metadata": {
    "collapsed": false,
    "pycharm": {
     "name": "#%%\n",
     "is_executing": true
    }
   }
  },
  {
   "cell_type": "code",
   "execution_count": 7,
   "outputs": [],
   "source": [
    "df.to_csv('data/setneg-new.csv')"
   ],
   "metadata": {
    "collapsed": false,
    "pycharm": {
     "name": "#%%\n"
    }
   }
  },
  {
   "cell_type": "code",
   "execution_count": 17,
   "outputs": [
    {
     "name": "stdout",
     "output_type": "stream",
     "text": [
      "<class 'pandas.core.frame.DataFrame'>\n",
      "RangeIndex: 1080 entries, 0 to 1079\n",
      "Data columns (total 59 columns):\n",
      " #   Column                       Non-Null Count  Dtype  \n",
      "---  ------                       --------------  -----  \n",
      " 0   Unnamed: 0                   1080 non-null   int64  \n",
      " 1   legacyId                     26 non-null     float64\n",
      " 2   parentId                     1079 non-null   float64\n",
      " 3   qubitParentSlug              0 non-null      float64\n",
      " 4   identifier                   1054 non-null   float64\n",
      " 5   accessionNumber              0 non-null      float64\n",
      " 6   title                        1080 non-null   object \n",
      " 7   levelOfDescription           1077 non-null   object \n",
      " 8   extentAndMedium              964 non-null    object \n",
      " 9   repository                   1080 non-null   object \n",
      " 10  archivalHistory              0 non-null      float64\n",
      " 11  acquisition                  15 non-null     object \n",
      " 12  scopeAndContent              0 non-null      float64\n",
      " 13  appraisal                    0 non-null      float64\n",
      " 14  accruals                     0 non-null      float64\n",
      " 15  arrangement                  0 non-null      float64\n",
      " 16  accessConditions             0 non-null      float64\n",
      " 17  reproductionConditions       0 non-null      float64\n",
      " 18  language                     1080 non-null   object \n",
      " 19  script                       0 non-null      float64\n",
      " 20  languageNote                 0 non-null      float64\n",
      " 21  physicalCharacteristics      0 non-null      float64\n",
      " 22  findingAids                  1 non-null      object \n",
      " 23  locationOfOriginals          0 non-null      float64\n",
      " 24  locationOfCopies             0 non-null      float64\n",
      " 25  relatedUnitsOfDescription    0 non-null      float64\n",
      " 26  publicationNote              0 non-null      float64\n",
      " 27  digitalObjectURI             0 non-null      float64\n",
      " 28  digitalObjectChecksum        0 non-null      float64\n",
      " 29  generalNote                  932 non-null    object \n",
      " 30  subjectAccessPoints          0 non-null      float64\n",
      " 31  placeAccessPoints            0 non-null      float64\n",
      " 32  nameAccessPoints             0 non-null      float64\n",
      " 33  genreAccessPoints            0 non-null      float64\n",
      " 34  descriptionIdentifier        0 non-null      float64\n",
      " 35  institutionIdentifier        0 non-null      float64\n",
      " 36  rules                        0 non-null      float64\n",
      " 37  descriptionStatus            0 non-null      float64\n",
      " 38  levelOfDetail                0 non-null      float64\n",
      " 39  revisionHistory              0 non-null      float64\n",
      " 40  languageOfDescription        0 non-null      float64\n",
      " 41  scriptOfDescription          0 non-null      float64\n",
      " 42  sources                      0 non-null      float64\n",
      " 43  archivistNote                133 non-null    object \n",
      " 44  publicationStatus            1080 non-null   object \n",
      " 45  physicalObjectName           0 non-null      float64\n",
      " 46  physicalObjectLocation       0 non-null      float64\n",
      " 47  physicalObjectType           0 non-null      float64\n",
      " 48  alternativeIdentifiers       0 non-null      float64\n",
      " 49  alternativeIdentifierLabels  0 non-null      float64\n",
      " 50  eventDates                   0 non-null      float64\n",
      " 51  eventTypes                   1080 non-null   object \n",
      " 52  eventStartDates              0 non-null      float64\n",
      " 53  eventEndDates                0 non-null      float64\n",
      " 54  eventDescriptions            0 non-null      float64\n",
      " 55  eventActors                  1080 non-null   object \n",
      " 56  eventActorHistories          0 non-null      float64\n",
      " 57  eventPlaces                  0 non-null      float64\n",
      " 58  culture                      1080 non-null   object \n",
      "dtypes: float64(45), int64(1), object(13)\n",
      "memory usage: 497.9+ KB\n"
     ]
    }
   ],
   "source": [
    "### menghapus sebuah kolom pada dataframe\n",
    "\n",
    "import pandas as pd\n",
    "df = pd.read_csv('data/setneg-new.csv')\n",
    "df.drop('referenceCode', inplace=True, axis=1)\n",
    "df.to_csv('data/setneg-without-rc.csv', index=False)\n",
    "df.info()"
   ],
   "metadata": {
    "collapsed": false,
    "pycharm": {
     "name": "#%%\n"
    }
   }
  },
  {
   "cell_type": "code",
   "execution_count": 19,
   "outputs": [],
   "source": [
    "df.drop('Unnamed: 0', inplace=True, axis=1)"
   ],
   "metadata": {
    "collapsed": false,
    "pycharm": {
     "name": "#%%\n"
    }
   }
  },
  {
   "cell_type": "code",
   "execution_count": 20,
   "outputs": [
    {
     "name": "stdout",
     "output_type": "stream",
     "text": [
      "<class 'pandas.core.frame.DataFrame'>\n",
      "RangeIndex: 1080 entries, 0 to 1079\n",
      "Data columns (total 58 columns):\n",
      " #   Column                       Non-Null Count  Dtype  \n",
      "---  ------                       --------------  -----  \n",
      " 0   legacyId                     26 non-null     float64\n",
      " 1   parentId                     1079 non-null   float64\n",
      " 2   qubitParentSlug              0 non-null      float64\n",
      " 3   identifier                   1054 non-null   float64\n",
      " 4   accessionNumber              0 non-null      float64\n",
      " 5   title                        1080 non-null   object \n",
      " 6   levelOfDescription           1077 non-null   object \n",
      " 7   extentAndMedium              964 non-null    object \n",
      " 8   repository                   1080 non-null   object \n",
      " 9   archivalHistory              0 non-null      float64\n",
      " 10  acquisition                  15 non-null     object \n",
      " 11  scopeAndContent              0 non-null      float64\n",
      " 12  appraisal                    0 non-null      float64\n",
      " 13  accruals                     0 non-null      float64\n",
      " 14  arrangement                  0 non-null      float64\n",
      " 15  accessConditions             0 non-null      float64\n",
      " 16  reproductionConditions       0 non-null      float64\n",
      " 17  language                     1080 non-null   object \n",
      " 18  script                       0 non-null      float64\n",
      " 19  languageNote                 0 non-null      float64\n",
      " 20  physicalCharacteristics      0 non-null      float64\n",
      " 21  findingAids                  1 non-null      object \n",
      " 22  locationOfOriginals          0 non-null      float64\n",
      " 23  locationOfCopies             0 non-null      float64\n",
      " 24  relatedUnitsOfDescription    0 non-null      float64\n",
      " 25  publicationNote              0 non-null      float64\n",
      " 26  digitalObjectURI             0 non-null      float64\n",
      " 27  digitalObjectChecksum        0 non-null      float64\n",
      " 28  generalNote                  932 non-null    object \n",
      " 29  subjectAccessPoints          0 non-null      float64\n",
      " 30  placeAccessPoints            0 non-null      float64\n",
      " 31  nameAccessPoints             0 non-null      float64\n",
      " 32  genreAccessPoints            0 non-null      float64\n",
      " 33  descriptionIdentifier        0 non-null      float64\n",
      " 34  institutionIdentifier        0 non-null      float64\n",
      " 35  rules                        0 non-null      float64\n",
      " 36  descriptionStatus            0 non-null      float64\n",
      " 37  levelOfDetail                0 non-null      float64\n",
      " 38  revisionHistory              0 non-null      float64\n",
      " 39  languageOfDescription        0 non-null      float64\n",
      " 40  scriptOfDescription          0 non-null      float64\n",
      " 41  sources                      0 non-null      float64\n",
      " 42  archivistNote                133 non-null    object \n",
      " 43  publicationStatus            1080 non-null   object \n",
      " 44  physicalObjectName           0 non-null      float64\n",
      " 45  physicalObjectLocation       0 non-null      float64\n",
      " 46  physicalObjectType           0 non-null      float64\n",
      " 47  alternativeIdentifiers       0 non-null      float64\n",
      " 48  alternativeIdentifierLabels  0 non-null      float64\n",
      " 49  eventDates                   0 non-null      float64\n",
      " 50  eventTypes                   1080 non-null   object \n",
      " 51  eventStartDates              0 non-null      float64\n",
      " 52  eventEndDates                0 non-null      float64\n",
      " 53  eventDescriptions            0 non-null      float64\n",
      " 54  eventActors                  1080 non-null   object \n",
      " 55  eventActorHistories          0 non-null      float64\n",
      " 56  eventPlaces                  0 non-null      float64\n",
      " 57  culture                      1080 non-null   object \n",
      "dtypes: float64(45), object(13)\n",
      "memory usage: 489.5+ KB\n"
     ]
    }
   ],
   "source": [
    "df.info()"
   ],
   "metadata": {
    "collapsed": false,
    "pycharm": {
     "name": "#%%\n"
    }
   }
  },
  {
   "cell_type": "code",
   "execution_count": 21,
   "outputs": [],
   "source": [
    "df.to_csv('data/setneg-without-rc.csv', index=False)"
   ],
   "metadata": {
    "collapsed": false,
    "pycharm": {
     "name": "#%%\n"
    }
   }
  },
  {
   "cell_type": "code",
   "execution_count": null,
   "outputs": [],
   "source": [],
   "metadata": {
    "collapsed": false,
    "pycharm": {
     "name": "#%%\n"
    }
   }
  }
 ],
 "metadata": {
  "kernelspec": {
   "display_name": "Python 3",
   "language": "python",
   "name": "python3"
  },
  "language_info": {
   "codemirror_mode": {
    "name": "ipython",
    "version": 2
   },
   "file_extension": ".py",
   "mimetype": "text/x-python",
   "name": "python",
   "nbconvert_exporter": "python",
   "pygments_lexer": "ipython2",
   "version": "2.7.6"
  }
 },
 "nbformat": 4,
 "nbformat_minor": 0
}